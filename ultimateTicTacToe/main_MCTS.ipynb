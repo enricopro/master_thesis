{
 "cells": [
  {
   "cell_type": "code",
   "execution_count": 2,
   "metadata": {},
   "outputs": [],
   "source": [
    "import os\n",
    "\n",
    "os.environ[\"CUDA_DEVICE_ORDER\"]=\"PCI_BUS_ID\"\n",
    "os.environ[\"CUDA_VISIBLE_DEVICES\"]=\"0\""
   ]
  },
  {
   "cell_type": "code",
   "execution_count": 3,
   "metadata": {},
   "outputs": [],
   "source": [
    "from setproctitle import setproctitle\n",
    "setproctitle(\"ENRICO_MCTS\")"
   ]
  },
  {
   "cell_type": "code",
   "execution_count": 4,
   "metadata": {},
   "outputs": [
    {
     "name": "stderr",
     "output_type": "stream",
     "text": [
      "2024-08-21 09:22:00.087059: I tensorflow/core/platform/cpu_feature_guard.cc:182] This TensorFlow binary is optimized to use available CPU instructions in performance-critical operations.\n",
      "To enable the following instructions: AVX2 FMA, in other operations, rebuild TensorFlow with the appropriate compiler flags.\n",
      "2024-08-21 09:22:00.918897: W tensorflow/compiler/tf2tensorrt/utils/py_utils.cc:38] TF-TRT Warning: Could not find TensorRT\n",
      "2024-08-21 09:22:02.505259: I tensorflow/compiler/xla/stream_executor/cuda/cuda_gpu_executor.cc:996] successful NUMA node read from SysFS had negative value (-1), but there must be at least one NUMA node, so returning NUMA node zero. See more at https://github.com/torvalds/linux/blob/v6.0/Documentation/ABI/testing/sysfs-bus-pci#L344-L355\n",
      "2024-08-21 09:22:02.557070: I tensorflow/compiler/xla/stream_executor/cuda/cuda_gpu_executor.cc:996] successful NUMA node read from SysFS had negative value (-1), but there must be at least one NUMA node, so returning NUMA node zero. See more at https://github.com/torvalds/linux/blob/v6.0/Documentation/ABI/testing/sysfs-bus-pci#L344-L355\n",
      "2024-08-21 09:22:02.557359: I tensorflow/compiler/xla/stream_executor/cuda/cuda_gpu_executor.cc:996] successful NUMA node read from SysFS had negative value (-1), but there must be at least one NUMA node, so returning NUMA node zero. See more at https://github.com/torvalds/linux/blob/v6.0/Documentation/ABI/testing/sysfs-bus-pci#L344-L355\n"
     ]
    }
   ],
   "source": [
    "import tensorflow as tf\n",
    "gpus = tf.config.experimental.list_physical_devices('GPU')\n",
    "for gpu in gpus:\n",
    "  tf.config.experimental.set_memory_growth(gpu, True)"
   ]
  },
  {
   "cell_type": "code",
   "execution_count": 5,
   "metadata": {},
   "outputs": [],
   "source": [
    "%load_ext autoreload\n",
    "%autoreload 2"
   ]
  },
  {
   "cell_type": "code",
   "execution_count": 6,
   "metadata": {},
   "outputs": [],
   "source": [
    "import numpy as np\n",
    "from tqdm import trange\n",
    "from UltimateTicTacToeEnvSelfPlay import UltimateTicTacToeEnvSelfPlay\n",
    "from MCTS import MCTS"
   ]
  },
  {
   "cell_type": "code",
   "execution_count": 7,
   "metadata": {},
   "outputs": [
    {
     "name": "stdout",
     "output_type": "stream",
     "text": [
      "0  out of  10\n",
      "0  out of  10\n",
      "0  out of  10\n",
      "0  out of  10\n",
      "0  out of  10\n",
      "0  out of  10\n",
      "0  out of  10\n",
      "0  out of  10\n",
      "0  out of  10\n",
      "0  out of  10\n",
      "0  out of  10\n",
      "0  out of  10\n",
      "0  out of  10\n",
      "0  out of  10\n",
      "0  out of  10\n",
      "0  out of  10\n",
      "0  out of  10\n",
      "0  out of  10\n",
      "0  out of  10\n",
      "0  out of  10\n",
      "0  out of  10\n",
      "0  out of  10\n",
      "0  out of  10\n",
      "0  out of  10\n",
      "0  out of  10\n",
      "0  out of  10\n",
      "0  out of  10\n",
      "1  out of  10\n",
      "1  out of  10\n",
      "3  out of  10\n",
      "3  out of  10\n",
      "5  out of  10\n",
      "6  out of  10\n",
      "6  out of  10\n",
      "7  out of  10\n",
      "8  out of  10\n",
      "8  out of  10\n",
      "0.6\n"
     ]
    }
   ],
   "source": [
    "# In this case we are making MCTS play against NUM_OF_GAMES random agents\n",
    "\n",
    "NUM_OF_GAMES = 10\n",
    "performance_envs = [UltimateTicTacToeEnvSelfPlay() for _ in range(NUM_OF_GAMES)]\n",
    "dones = np.zeros((NUM_OF_GAMES,), dtype=bool)\n",
    "final_rewards = np.zeros((NUM_OF_GAMES,))\n",
    "while(not np.all(dones) != 0):\n",
    "    mcts_agents = []\n",
    "    for i in range(NUM_OF_GAMES):\n",
    "        mcts_agents.append(MCTS(performance_envs[i], simulations=30000))\n",
    "    print(np.count_nonzero(dones), \" out of \", NUM_OF_GAMES)\n",
    "    performance_states = np.array([env.to_state()[0] for env in performance_envs])\n",
    "    performance_available_actions = np.array([env.to_state()[1] for env in performance_envs])\n",
    "    performance_actions = []\n",
    "    for i in range(NUM_OF_GAMES):\n",
    "        performance_actions.append(mcts_agents[i].play())\n",
    "    performance_r1 = np.zeros(NUM_OF_GAMES)\n",
    "    game_finished = np.zeros(NUM_OF_GAMES)\n",
    "    for i in range(NUM_OF_GAMES):\n",
    "        if dones[i] == True:\n",
    "            continue\n",
    "        _, performance_r1[i], game_finished[i], _  = performance_envs[i].step(performance_actions[i])\n",
    "        if game_finished[i] == True:\n",
    "            dones[i] = True\n",
    "            final_rewards[i] = performance_r1[i]\n",
    "\n",
    "    states_opponent = np.array([env.to_state()[0] for env in performance_envs])\n",
    "    available_actions_opponent = np.array([env.to_state()[1] for env in performance_envs])\n",
    "    actions_opponent = np.full(available_actions_opponent.shape[0], -1, dtype=int)\n",
    "    one_indices = available_actions_opponent == 1\n",
    "    # For each row where there is at least one '1', select a random index of '1'\n",
    "    for i in range(available_actions_opponent.shape[0]):\n",
    "        valid_indices = np.where(one_indices[i])[0]\n",
    "        if valid_indices.size > 0:\n",
    "            actions_opponent[i] = np.random.choice(valid_indices)\n",
    "    performance_r2 = np.zeros(NUM_OF_GAMES)\n",
    "    game_finished = np.zeros(NUM_OF_GAMES)\n",
    "    for i in range(NUM_OF_GAMES):\n",
    "            if dones[i] == True:\n",
    "                continue\n",
    "            _, performance_r2[i], game_finished[i], _  = performance_envs[i].step(actions_opponent[i])\n",
    "            # print(\"OPPONENT ACTION: \", actions_opponent[i])\n",
    "            if game_finished[i] == True:\n",
    "                dones[i] = True\n",
    "                final_rewards[i] = -performance_r2[i]\n",
    "\n",
    "win = np.count_nonzero(final_rewards == 1)/len(dones)\n",
    "draw = np.count_nonzero(final_rewards == 0)/len(dones)\n",
    "\n",
    "print(win+draw)"
   ]
  },
  {
   "cell_type": "code",
   "execution_count": 19,
   "metadata": {},
   "outputs": [
    {
     "name": "stdout",
     "output_type": "stream",
     "text": [
      "None\n"
     ]
    }
   ],
   "source": [
    "print(performance_envs[i].last_move)"
   ]
  }
 ],
 "metadata": {
  "kernelspec": {
   "display_name": "Python 3",
   "language": "python",
   "name": "python3"
  },
  "language_info": {
   "codemirror_mode": {
    "name": "ipython",
    "version": 3
   },
   "file_extension": ".py",
   "mimetype": "text/x-python",
   "name": "python",
   "nbconvert_exporter": "python",
   "pygments_lexer": "ipython3",
   "version": "3.11.9"
  }
 },
 "nbformat": 4,
 "nbformat_minor": 2
}
